{
 "cells": [
  {
   "cell_type": "markdown",
   "metadata": {},
   "source": [
    "09.02.2025\n",
    "Local and Global Variable"
   ]
  },
  {
   "cell_type": "code",
   "execution_count": null,
   "metadata": {},
   "outputs": [
    {
     "name": "stdout",
     "output_type": "stream",
     "text": [
      "value of num_x outside function it's a Global Variable 10\n",
      "value of num_x inside function it's a Local Variable 5\n",
      "how are you\n",
      "value of num_x outside function it's a Global Variable 10\n"
     ]
    }
   ],
   "source": [
    "num_x = 10   # Global Variable.\n",
    "print(\"value of num_x outside function it's a Global Variable\", num_x) \n",
    "\n",
    "def hello():\n",
    "    num_x = 5  # Local variable\n",
    "    print(\"value of num_x inside function it's a Local Variable\", num_x) # 5 will be print\n",
    "    print(\"how are you\")\n",
    "hello()\n",
    "print(\"value of num_x outside function it's a Global Variable\", num_x) # 10 will be print"
   ]
  },
  {
   "cell_type": "code",
   "execution_count": null,
   "metadata": {},
   "outputs": [
    {
     "name": "stdout",
     "output_type": "stream",
     "text": [
      "value of num_x outside function it's a Global Variable 10\n",
      "value of num_x inside function it's a Local Variable 10\n",
      "how are you\n",
      "value of num_x outside function it's a Global Variable 10\n"
     ]
    }
   ],
   "source": [
    "num_x = 10   # Global Variable\n",
    "print(\"value of num_x outside function it's a Global Variable\", num_x)\n",
    "\n",
    "def hello():\n",
    "    global num_x ; 5  # change local varibale to global variable\n",
    "    print(\"value of num_x inside function it's a Local Variable\", num_x) # 10 will be print as its converted into global\n",
    "    print(\"how are you\")\n",
    "hello()\n",
    "print(\"value of num_x outside function it's a Global Variable\", num_x) # 10 will be print"
   ]
  },
  {
   "cell_type": "code",
   "execution_count": 9,
   "metadata": {},
   "outputs": [
    {
     "name": "stdout",
     "output_type": "stream",
     "text": [
      "100 x 1 = 100\n",
      "100 x 2 = 200\n",
      "100 x 3 = 300\n",
      "100 x 4 = 400\n",
      "100 x 5 = 500\n"
     ]
    }
   ],
   "source": [
    "\n",
    "try:\n",
    "    user_input = int(input(\"Enter your number: \"))\n",
    "    for num in range(1,6):\n",
    "        print(f\"{user_input} x {num} = {user_input * num}\")\n",
    "except ValueError:\n",
    "    print(\"Please Enter Int. value\")"
   ]
  },
  {
   "cell_type": "markdown",
   "metadata": {},
   "source": [
    "PYTHON SETS\n",
    "1. Parenthisis diference {},\n",
    "2. Only store unique values,\n",
    "3. Unindexd item\n",
    "4. Unordered Item \n",
    "(add, remove, discard, pop, union, intersaction)"
   ]
  },
  {
   "cell_type": "code",
   "execution_count": null,
   "metadata": {},
   "outputs": [],
   "source": [
    "# Sets in python\n",
    "\n",
    "boys_set = {\"Danish\",\"Zohaib\",\"Bilal\",\"Arfeen\"}\n",
    "# print(len(boys_set))\n",
    "girls_set = {\"Hafsa\",\"Zara\",\"Areeba\",\"Aqsa\"}\n",
    "# print(type(girls_set))\n",
    "mix_data_set = {\"Pakistan\", 112, True, 1, 404, \"male\"}\n",
    "# print(len(mix_data_set))\n",
    "\n",
    "mix_data_set.update(boys_set) # update 2 sets\n",
    "print(mix_data_set)\n",
    "\n",
    "# mix_data_set.add(\"Asghar\")  # add item\n",
    "# print(mix_data_set)\n",
    "\n",
    "# boys_set.remove(\"akber\") #if item not exist then error will be show\n",
    "# print(boys_set)\n",
    "\n",
    "# boys_set.discard(\"akber\") # no errorif value not exist\n",
    "# print(boys_set)\n",
    "\n",
    "# x = mix_data_set.pop()  #rendom item removed\n",
    "# print(x)\n",
    "\n",
    "# mix_data_set.clear() # list will be cleared\n",
    "# print(mix_data_set)\n",
    "\n",
    "# del mix_data_set # set will be delete\n",
    "# print(mix_data_set)\n",
    "\n",
    "# girls_set.copy() # for making a copy of set \n",
    "# print(girls_set)\n"
   ]
  },
  {
   "cell_type": "code",
   "execution_count": 2,
   "metadata": {},
   "outputs": [
    {
     "name": "stdout",
     "output_type": "stream",
     "text": [
      "{1, 2, 3, 4, 5}\n",
      "{3}\n"
     ]
    }
   ],
   "source": [
    "set_1 = {1,2,3}\n",
    "set_2 = {3,4,5}\n",
    "\n",
    "result = set_1.union(set_2)\n",
    "print(result)\n",
    "\n",
    "result2 = set_1.intersection(set_2)\n",
    "print(result2)"
   ]
  },
  {
   "cell_type": "markdown",
   "metadata": {},
   "source": [
    "Docstring"
   ]
  },
  {
   "cell_type": "code",
   "execution_count": null,
   "metadata": {},
   "outputs": [
    {
     "name": "stdout",
     "output_type": "stream",
     "text": [
      "takes two parameters and return their sum\n",
      "4\n"
     ]
    }
   ],
   "source": [
    "def addition(num1: int, num2: int) -> int:\n",
    "    \"\"\"takes two parameters and return their sum\"\"\"  #alwas in 1st line after function\n",
    "    return num1 + num2\n",
    "\n",
    "result = addition(2,2)\n",
    "print(addition.__doc__)\n",
    "print(result)"
   ]
  }
 ],
 "metadata": {
  "kernelspec": {
   "display_name": "Python 3",
   "language": "python",
   "name": "python3"
  },
  "language_info": {
   "codemirror_mode": {
    "name": "ipython",
    "version": 3
   },
   "file_extension": ".py",
   "mimetype": "text/x-python",
   "name": "python",
   "nbconvert_exporter": "python",
   "pygments_lexer": "ipython3",
   "version": "3.13.1"
  }
 },
 "nbformat": 4,
 "nbformat_minor": 2
}
