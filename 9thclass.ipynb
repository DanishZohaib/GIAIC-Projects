{
 "cells": [
  {
   "cell_type": "markdown",
   "metadata": {},
   "source": [
    "09.02.2025\n",
    "Local and Global Variable"
   ]
  },
  {
   "cell_type": "code",
   "execution_count": null,
   "metadata": {},
   "outputs": [
    {
     "name": "stdout",
     "output_type": "stream",
     "text": [
      "value of num_x outside function it's a Global Variable 10\n",
      "value of num_x inside function it's a Local Variable 5\n",
      "how are you\n",
      "value of num_x outside function it's a Global Variable 10\n"
     ]
    }
   ],
   "source": [
    "num_x = 10   # Global Variable\n",
    "print(\"value of num_x outside function it's a Global Variable\", num_x) \n",
    "\n",
    "def hello():\n",
    "    num_x = 5  # Local variable\n",
    "    print(\"value of num_x inside function it's a Local Variable\", num_x) # 5 will be print\n",
    "    print(\"how are you\")\n",
    "hello()\n",
    "print(\"value of num_x outside function it's a Global Variable\", num_x) # 10 will be print"
   ]
  },
  {
   "cell_type": "code",
   "execution_count": null,
   "metadata": {},
   "outputs": [
    {
     "name": "stdout",
     "output_type": "stream",
     "text": [
      "value of num_x outside function it's a Global Variable 10\n",
      "value of num_x inside function it's a Local Variable 10\n",
      "how are you\n",
      "value of num_x outside function it's a Global Variable 10\n"
     ]
    }
   ],
   "source": [
    "num_x = 10   # Global Variable\n",
    "print(\"value of num_x outside function it's a Global Variable\", num_x)\n",
    "\n",
    "def hello():\n",
    "    global num_x ; 5  # change local varibale to global variable\n",
    "    print(\"value of num_x inside function it's a Local Variable\", num_x) # 10 will be print as its converted into global\n",
    "    print(\"how are you\")\n",
    "hello()\n",
    "print(\"value of num_x outside function it's a Global Variable\", num_x) # 10 will be print"
   ]
  },
  {
   "cell_type": "code",
   "execution_count": 9,
   "metadata": {},
   "outputs": [
    {
     "name": "stdout",
     "output_type": "stream",
     "text": [
      "100 x 1 = 100\n",
      "100 x 2 = 200\n",
      "100 x 3 = 300\n",
      "100 x 4 = 400\n",
      "100 x 5 = 500\n"
     ]
    }
   ],
   "source": [
    "\n",
    "try:\n",
    "    user_input = int(input(\"Enter your number: \"))\n",
    "    for num in range(1,6):\n",
    "        print(f\"{user_input} x {num} = {user_input * num}\")\n",
    "except ValueError:\n",
    "    print(\"Please Enter Int. value\")"
   ]
  },
  {
   "cell_type": "markdown",
   "metadata": {},
   "source": [
    "Docstring"
   ]
  },
  {
   "cell_type": "code",
   "execution_count": null,
   "metadata": {},
   "outputs": [
    {
     "name": "stdout",
     "output_type": "stream",
     "text": [
      "takes two parameters and return their sum\n",
      "4\n"
     ]
    }
   ],
   "source": [
    "def addition(num1: int, num2: int) -> int:\n",
    "    \"\"\"takes two parameters and return their sum\"\"\"  #alwas in 1st line after function\n",
    "    return num1 + num2\n",
    "\n",
    "result = addition(2,2)\n",
    "print(addition.__doc__)\n",
    "print(result)"
   ]
  }
 ],
 "metadata": {
  "kernelspec": {
   "display_name": "Python 3",
   "language": "python",
   "name": "python3"
  },
  "language_info": {
   "codemirror_mode": {
    "name": "ipython",
    "version": 3
   },
   "file_extension": ".py",
   "mimetype": "text/x-python",
   "name": "python",
   "nbconvert_exporter": "python",
   "pygments_lexer": "ipython3",
   "version": "3.13.1"
  }
 },
 "nbformat": 4,
 "nbformat_minor": 2
}
